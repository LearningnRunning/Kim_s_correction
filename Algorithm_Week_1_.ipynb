{
  "nbformat": 4,
  "nbformat_minor": 0,
  "metadata": {
    "colab": {
      "name": " Algorithm Week 1 .ipynb",
      "provenance": [],
      "authorship_tag": "ABX9TyMatfUjnIIVCmy/3qKzoToW",
      "include_colab_link": true
    },
    "kernelspec": {
      "name": "python3",
      "display_name": "Python 3"
    },
    "language_info": {
      "name": "python"
    }
  },
  "cells": [
    {
      "cell_type": "markdown",
      "metadata": {
        "id": "view-in-github",
        "colab_type": "text"
      },
      "source": [
        "<a href=\"https://colab.research.google.com/github/LearningnRunning/Kim_s_correction/blob/main/Algorithm_Week_1_.ipynb\" target=\"_parent\"><img src=\"https://colab.research.google.com/assets/colab-badge.svg\" alt=\"Open In Colab\"/></a>"
      ]
    },
    {
      "cell_type": "markdown",
      "source": [
        "# 학습 - 완전탐색과 이분탐색\n",
        "- for문에 iterator를 하나씩 꺼내 탐색할 때 해당 요소를 iterator 안의 모든 요소와 비교할 때 완전 탐색을 사용한다\n",
        "- 특정 요소를 찾을 때 런타임을 줄일 때 이분 탐색을 사용한다."
      ],
      "metadata": {
        "id": "ZC0Y0BnOe9UX"
      }
    },
    {
      "cell_type": "code",
      "source": [
        "#이분탐색 정렬된 리스트에서 8을 찾기 \n",
        "def soulution(trump):\n",
        "  left = 0 \n",
        "  right = len(trump)-1\n",
        "  while (left<=right):\n",
        "    mid = (left+right)//2\n",
        "    if trump[mid] ==8:\n",
        "      return mid\n",
        "    elif trump[mid] < 8:\n",
        "      left = mid + 1\n",
        "    elif trump[mid] > 8:\n",
        "      right = mid -1\n",
        "  return mid"
      ],
      "metadata": {
        "id": "hloIJaVsKind"
      },
      "execution_count": null,
      "outputs": []
    },
    {
      "cell_type": "markdown",
      "source": [
        "# 문제_1. 프로그래머스_ 소수찾기\n",
        "- itertools의 permutations를 새로 배웠다. 순열 만들 떄 좋다."
      ],
      "metadata": {
        "id": "Ca5CvxflcV86"
      }
    },
    {
      "cell_type": "markdown",
      "source": [
        "### itertools 라이브러리의 permutations 툴\n",
        "- itertools.permutations(iterable, r=None)\n",
        "- permutations(iterator, 뽑을 자릿수) \n",
        "- 모든 자릿수 뽑기 \n"
      ],
      "metadata": {
        "id": "kzeY96JIcgA-"
      }
    },
    {
      "cell_type": "code",
      "source": [
        "from itertools import permutations\n",
        "list(map(''.join,permutations('17', 1))) #1과7로 만드는 모든 한 자릿수\n",
        "list(map(''.join,permutations('17', 2))) #모든 두 자릿수 "
      ],
      "metadata": {
        "colab": {
          "base_uri": "https://localhost:8080/"
        },
        "id": "WjzussQVWvj-",
        "outputId": "2f988099-7c93-483f-b31e-a596abb8998c"
      },
      "execution_count": null,
      "outputs": [
        {
          "output_type": "execute_result",
          "data": {
            "text/plain": [
              "['17', '71']"
            ]
          },
          "metadata": {},
          "execution_count": 22
        }
      ]
    },
    {
      "cell_type": "markdown",
      "source": [
        "## 난관 \n",
        "- 소수 리스트를 먼저 구하고 리스트에서 하나씩 꺼내 문자열로 분해 후 기존 카드와 비교"
      ],
      "metadata": {
        "id": "dTKygX-EWHq_"
      }
    },
    {
      "cell_type": "code",
      "source": [
        "def solution(numbers):\n",
        "    a = list(numbers)\n",
        "    a.sort(reverse=True)\n",
        "    n = int(''.join(a))\n",
        "    if n < 2:\n",
        "        return []\n",
        "    s = [0, 0] + [1] * (n - 1)\n",
        "    for i in range(2, int(n**.5)+1):\n",
        "        if s[i]:\n",
        "            s[i*2::i] = [0] * ((n - i)//i)\n",
        "    tmp = [i for i, v in enumerate(s) if v]\n",
        "    answer = 0 \n",
        "    print(tmp)\n",
        "    for i in tmp:\n",
        "        i = list(map(int,list(str(i))))\n",
        "        a = list(map(int,a))\n",
        "        if len([_ for _ in a if _ in i]) == len(i):\n",
        "            answer += 1\n",
        "    return answer"
      ],
      "metadata": {
        "id": "xiRtccYmLwmD"
      },
      "execution_count": null,
      "outputs": []
    },
    {
      "cell_type": "markdown",
      "source": [
        "## 난관 이유\n",
        "- 먼저 소수 리스트에서 하나씩 꺼내와 다시 문자열 리스트를 만들었다.\n",
        "하지만 비교 과정에서 어려웠다. 주어진 numbers의 문자열 리스트와 꺼내온 소수 문자열 리스트를 완전비교하기 어려웠다.  \n",
        "\n",
        "```pythyon\n",
        "a = ['1', '1', '0']\n",
        "b = ['1', '1']\n",
        "if b in a:\n",
        "     print(b)\n",
        "```\n",
        "b 의 요소 모두가 a에 들어있는지 판단하고 싶었다... \n",
        "\n",
        "<br>\n",
        "\n",
        "###시도해본 방법\n",
        "1) set으로 교집합 개수 비교\n",
        "```\n",
        "a = set(a)\n",
        "b = set(b)\n",
        "if len(a & b) == len(b):\n",
        "            print(b)\n",
        "```\n",
        "2) 세트로 변환 않고 리스트에서 교집합 구하기\n",
        "\n",
        "```\n",
        "b = list(map(int,list(str(b))))\n",
        "a = list(map(int,a))\n",
        "if len([_ for _ in a if _ in b]) == len(b):\n",
        "    print(b)\n",
        "```\n",
        "결국 일일이 비교를 포기하고 permutations 툴을 이용해 숫자 카드로 만들 수 있는 모든 숫자의 리스트를 만들고 소수리스트와 교집합 하는 수의 개수로 정답을 도출했다.\n"
      ],
      "metadata": {
        "id": "tF2fBx_8hTtD"
      }
    },
    {
      "cell_type": "markdown",
      "source": [
        "### 정답코드"
      ],
      "metadata": {
        "id": "Vkqlv-Xsi7sj"
      }
    },
    {
      "cell_type": "code",
      "source": [
        "from itertools import permutations\n",
        "def solution(numbers):\n",
        "    a = list(numbers)\n",
        "    a.sort(reverse=True)\n",
        "    n = int(''.join(a))\n",
        "    if n < 2:\n",
        "        return []\n",
        "    s = [0, 0] + [1] * (n - 1)\n",
        "    for i in range(2, int(n**.5)+1):\n",
        "        if s[i]:\n",
        "            s[i*2::i] = [0] * ((n - i)//i)\n",
        "    tmp = [i for i, v in enumerate(s) if v]\n",
        "    num = []\n",
        "    for j in range(1, len(numbers)+1):\n",
        "      num = num + list(map(''.join, permutations(a, j)))\n",
        "    num = list(map(int,num))\n",
        "    return len(set(num) & set(tmp))"
      ],
      "metadata": {
        "id": "EHtv3FR3i8Za"
      },
      "execution_count": null,
      "outputs": []
    },
    {
      "cell_type": "markdown",
      "source": [
        "#문제2. [백준10816](https://www.acmicpc.net/problem/10816)_숫자 카드 2\n",
        "\n",
        "숫자 카드는 정수 하나가 적혀져 있는 카드이다. 상근이는 숫자 카드 N개를 가지고 있다. 정수 M개가 주어졌을 때, 이 수가 적혀있는 숫자 카드를 상근이가 몇 개 가지고 있는지 구하는 프로그램을 작성하시오.\n",
        "- 입력예시\n",
        "```\n",
        "10 # 상근이가 가진 숫자 카드 개수\n",
        "6 3 2 10 10 10 -10 -10 7 3 #카드에 적힌 정수\n",
        "8 #주어지는 카드 개수\n",
        "10 9 -5 2 3 4 5 -10 #주어지는 카드에 적힌 정수 \n",
        "```\n",
        "- 출력 예시\n",
        "```\n",
        "3 0 0 1 2 0 0 2  # 주어진 카드 중 상근이 카드와 같은 카드의 개수 \n",
        "```\n",
        "\n",
        "\n",
        "\n"
      ],
      "metadata": {
        "id": "HVPkvt1Zorso"
      }
    },
    {
      "cell_type": "code",
      "source": [
        "from collections import Counter\n",
        "n = int(input())\n",
        "n_lst = list(map(int,input().split()))\n",
        "m = int(input())\n",
        "m_lst = list(map(int,input().split()))\n",
        "answer = []\n",
        "tmp = Counter(n_lst)\n",
        "for i in range(m):\n",
        "  answer.append(tmp[m_lst[i]])\n",
        "print(*answer)"
      ],
      "metadata": {
        "id": "K_bYaY933vyp"
      },
      "execution_count": null,
      "outputs": []
    },
    {
      "cell_type": "markdown",
      "source": [
        "#### 시간초과 에러 해결 \n",
        "- for문 안에는 항상 필요한 것만 있는지 확인하자 "
      ],
      "metadata": {
        "id": "ejxxpylD3hbw"
      }
    },
    {
      "cell_type": "code",
      "source": [
        "from collections import Counter\n",
        "n = int(input())\n",
        "n_lst = list(map(int,input().split()))\n",
        "m = int(input())\n",
        "m_lst = list(map(int,input().split()))\n",
        "answer = []\n",
        "for i in range(m):\n",
        "  tmp = Counter(n_lst)\n",
        "  answer.append(tmp[m_lst[i]])\n",
        "print(*answer)"
      ],
      "metadata": {
        "id": "jFvqRXjT3enD"
      },
      "execution_count": null,
      "outputs": []
    },
    {
      "cell_type": "markdown",
      "source": [
        "# 문제3. 스택 "
      ],
      "metadata": {
        "id": "p1cbIf688u1H"
      }
    },
    {
      "cell_type": "code",
      "source": [
        "import sys\n",
        "input = sys.stdin.readline\n",
        "\n",
        "n = int(input())\n",
        "stack = []\n",
        "\n",
        "for i in range(n):\n",
        "    s = input().split()\n",
        "    if s[0] == 'push':\n",
        "        stack.append(int(s[1]))\n",
        "    elif s[0] == 'top':\n",
        "        if len(stack) > 0: print(stack[-1])\n",
        "        else: print(-1)\n",
        "    elif s[0] == 'pop':\n",
        "        if len(stack) > 0: print(stack.pop())\n",
        "        else: print(-1)\n",
        "    elif s[0] == 'size':\n",
        "        print(len(stack))\n",
        "    elif s[0] == 'empty':\n",
        "        if len(stack) > 0: print(0)\n",
        "        else: print(1)"
      ],
      "metadata": {
        "id": "ozbe7MJAG6kc"
      },
      "execution_count": null,
      "outputs": []
    }
  ]
}